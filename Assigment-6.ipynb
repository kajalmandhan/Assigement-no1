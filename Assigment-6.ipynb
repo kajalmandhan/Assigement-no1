{
 "cells": [
  {
   "cell_type": "code",
   "execution_count": null,
   "metadata": {},
   "outputs": [],
   "source": [
    "Object-oriented programming aims to implement real-world entities like inheritance, hiding, polymorphism etc in programming. \n",
    "The main aim of OOP is to bind together the data and the functions that operate on them so that no other part of the \n",
    "code can access this data except that function."
   ]
  },
  {
   "cell_type": "code",
   "execution_count": null,
   "metadata": {},
   "outputs": [],
   "source": [
    "Modularity for easier troubleshooting.\n",
    "Reuse of code through inheritance.\n",
    "Flexibility through polymorphism.\n",
    "Effective problem solving."
   ]
  },
  {
   "cell_type": "code",
   "execution_count": null,
   "metadata": {},
   "outputs": [],
   "source": [
    "A function is a piece of code that is called by name.It can be passed data to operate on (i.e. the parameters) and \n",
    "can optionally return data (the return value).All data that is passed to a function is explicitly passed. \n",
    "\n",
    "A method is a piece of code that is called by a name that is associated with an object"
   ]
  },
  {
   "cell_type": "code",
   "execution_count": null,
   "metadata": {},
   "outputs": [],
   "source": [
    "Class:A Class is like an object constructor, or a \"blueprint\" for creating objects.\n",
    "Object:Object is simply a collection of data (variables) and methods (functions) that act on those data.\n",
    "Attribute:Attribute is a specification that defines a property of an object, element, or file.\n",
    "    "
   ]
  },
  {
   "cell_type": "code",
   "execution_count": 25,
   "metadata": {},
   "outputs": [
    {
     "name": "stdout",
     "output_type": "stream",
     "text": [
      " car model 123\n",
      " company Toyota\n",
      " color black\n",
      " max Speed 140\n",
      " price 10,00000\n"
     ]
    }
   ],
   "source": [
    "class Car:\n",
    "    def __init__(self, model, name, color, maxSpeed, price):\n",
    "        self.model = model\n",
    "        self.name = name\n",
    "        self.color = color\n",
    "        self.maxSpeed=maxSpeed\n",
    "        self.price=price\n",
    "    \n",
    "    def display(self):\n",
    "        print(' car model',self.model)\n",
    "        print(' company',self.name)\n",
    "        print(' color',self.color)\n",
    "        print(' max Speed',self.maxSpeed)\n",
    "        print(' price',self.price)\n",
    "        \n",
    "       \n",
    "    def main():\n",
    "        obj1=Car('123','Toyota','black','140','10,00000')\n",
    "        obj2=Car('wqd3','Honda','Red','140','12,00000')\n",
    "        obj3=Car('sdf','Vitz','White','120','8,00000')\n",
    "        obj1.display()\n",
    "        obj2.display()\n",
    "        obj3.display()\n",
    "\n",
    "main()\n"
   ]
  },
  {
   "cell_type": "code",
   "execution_count": null,
   "metadata": {},
   "outputs": [],
   "source": []
  }
 ],
 "metadata": {
  "kernelspec": {
   "display_name": "Python 3",
   "language": "python",
   "name": "python3"
  },
  "language_info": {
   "codemirror_mode": {
    "name": "ipython",
    "version": 3
   },
   "file_extension": ".py",
   "mimetype": "text/x-python",
   "name": "python",
   "nbconvert_exporter": "python",
   "pygments_lexer": "ipython3",
   "version": "3.6.5"
  }
 },
 "nbformat": 4,
 "nbformat_minor": 2
}
