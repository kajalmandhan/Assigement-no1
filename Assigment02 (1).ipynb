{
 "cells": [
  {
   "cell_type": "code",
   "execution_count": 8,
   "metadata": {},
   "outputs": [
    {
     "name": "stdout",
     "output_type": "stream",
     "text": [
      "Enter Obtained marks out of 100 69\n",
      "Enter Obtained marks out of 100 76\n",
      "Enter Obtained marks out of 100 68\n",
      "Enter Obtained marks out of 100 88\n",
      "Enter Obtained marks out of 100 85\n",
      "Total Marks = 386\n",
      "Percentage = 77.2\n",
      "Grade B\n"
     ]
    }
   ],
   "source": [
    "#Q:01\n",
    "marks=[]\n",
    "tmarks=0;\n",
    "for i in range (5):\n",
    "    x=int(input(\"Enter Obtained marks out of 100 \"))\n",
    "  \n",
    "    marks.append(x)\n",
    "    tmarks+=x\n",
    "\n",
    "print(\"Total Marks =\",tmarks)  \n",
    "percentage=(tmarks/500)*100\n",
    "print(\"Percentage =\",percentage)\n",
    "if percentage>=90:\n",
    "    print(\"Grade A+\")\n",
    "elif percentage>=80:\n",
    "    print(\"Grade A\")\n",
    "elif percentage>=70:\n",
    "    print(\"Grade B\")    \n",
    "elif percentage>=60:\n",
    "    print(\"Grade C\")\n",
    "elif percentage>=50:\n",
    "    print(\"Grade D\")\n",
    "else:\n",
    "    print(\"Fail\")"
   ]
  },
  {
   "cell_type": "code",
   "execution_count": 2,
   "metadata": {},
   "outputs": [
    {
     "name": "stdout",
     "output_type": "stream",
     "text": [
      "Enter Number21\n",
      "Odd Number\n"
     ]
    }
   ],
   "source": [
    "#Q:02\n",
    "x=int(input(\"Enter Number\"))\n",
    "if x%2==0:\n",
    "    print(\"Even Number\")\n",
    "else:\n",
    "    print(\"Odd Number\")"
   ]
  },
  {
   "cell_type": "code",
   "execution_count": 3,
   "metadata": {},
   "outputs": [
    {
     "name": "stdout",
     "output_type": "stream",
     "text": [
      "5\n"
     ]
    }
   ],
   "source": [
    "#Q:03\n",
    "list=[1,4,3,7,1]\n",
    "print(len(list))"
   ]
  },
  {
   "cell_type": "code",
   "execution_count": 4,
   "metadata": {},
   "outputs": [
    {
     "name": "stdout",
     "output_type": "stream",
     "text": [
      "Sum of list= 30\n"
     ]
    }
   ],
   "source": [
    "#Q:04\n",
    "list=[13,2,3,7,5]\n",
    "x=len(list)\n",
    "total=0\n",
    "for i in range (x):\n",
    "    total+=list[i]\n",
    "print(\"Sum of list=\",total)"
   ]
  },
  {
   "cell_type": "code",
   "execution_count": 5,
   "metadata": {},
   "outputs": [
    {
     "name": "stdout",
     "output_type": "stream",
     "text": [
      "7\n"
     ]
    }
   ],
   "source": [
    "#Q:05\n",
    "list=[6,4,3,7,1]\n",
    "print(max(list))"
   ]
  },
  {
   "cell_type": "code",
   "execution_count": 6,
   "metadata": {},
   "outputs": [
    {
     "name": "stdout",
     "output_type": "stream",
     "text": [
      "1\n",
      "1\n",
      "2\n",
      "3\n"
     ]
    }
   ],
   "source": [
    "#Q:06\n",
    "list=[1,1,2,3,5,8,13,21,34,55,89]\n",
    "x=len(list)\n",
    "for i in range(x):\n",
    "    if list[i]<5:\n",
    "        print(list[i])"
   ]
  },
  {
   "cell_type": "code",
   "execution_count": null,
   "metadata": {},
   "outputs": [],
   "source": []
  }
 ],
 "metadata": {
  "kernelspec": {
   "display_name": "Python 3",
   "language": "python",
   "name": "python3"
  },
  "language_info": {
   "codemirror_mode": {
    "name": "ipython",
    "version": 3
   },
   "file_extension": ".py",
   "mimetype": "text/x-python",
   "name": "python",
   "nbconvert_exporter": "python",
   "pygments_lexer": "ipython3",
   "version": "3.6.5"
  }
 },
 "nbformat": 4,
 "nbformat_minor": 2
}
